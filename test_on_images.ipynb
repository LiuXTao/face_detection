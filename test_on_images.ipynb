{
 "cells": [
  {
   "cell_type": "code",
   "execution_count": 6,
   "metadata": {
    "collapsed": true
   },
   "outputs": [],
   "source": [
    "from face_detection.visualization_utils import show_boxes\n",
    "from face_detection.detector import detect_face\n",
    "from PIL import Image"
   ]
  },
  {
   "cell_type": "code",
   "execution_count": 7,
   "metadata": {},
   "outputs": [
    {
     "name": "stderr",
     "output_type": "stream",
     "text": [
      "D:\\pyCase\\face_detection\\face_detection\\first_stage.py:32: UserWarning: volatile was removed and now has no effect. Use `with torch.no_grad():` instead.\n  img = Variable(torch.FloatTensor(_preprocess(img)), volatile=True)\nD:\\pyCase\\face_detection\\face_detection\\get_nets.py:53: UserWarning: Implicit dimension choice for softmax has been deprecated. Change the call to include dim=X as an argument.\n  a = F.softmax(self.conv4_1(x))\n"
     ]
    },
    {
     "name": "stderr",
     "output_type": "stream",
     "text": [
      "D:\\pyCase\\face_detection\\face_detection\\detector.py:74: UserWarning: volatile was removed and now has no effect. Use `with torch.no_grad():` instead.\n  img_boxes = Variable(torch.FloatTensor(img_boxes), volatile=True)\nD:\\pyCase\\face_detection\\face_detection\\get_nets.py:91: UserWarning: Implicit dimension choice for softmax has been deprecated. Change the call to include dim=X as an argument.\n  a = F.softmax(self.conv5_1(x))\n"
     ]
    },
    {
     "name": "stderr",
     "output_type": "stream",
     "text": [
      "D:\\pyCase\\face_detection\\face_detection\\detector.py:99: UserWarning: volatile was removed and now has no effect. Use `with torch.no_grad():` instead.\n  img_boxes = Variable(torch.FloatTensor(img_boxes), volatile=True)\nD:\\pyCase\\face_detection\\face_detection\\get_nets.py:133: UserWarning: Implicit dimension choice for softmax has been deprecated. Change the call to include dim=X as an argument.\n  a = F.softmax(self.conv6_1(x))\n"
     ]
    }
   ],
   "source": [
    "img = Image.open('images/office1.jpg')\n",
    "bounding_boxes, landmark = detect_face(img)"
   ]
  },
  {
   "cell_type": "code",
   "execution_count": 8,
   "metadata": {},
   "outputs": [],
   "source": [
    "show_boxes(img, bounding_boxes, landmark).show()"
   ]
  },
  {
   "cell_type": "code",
   "execution_count": 19,
   "metadata": {},
   "outputs": [
    {
     "name": "stderr",
     "output_type": "stream",
     "text": [
      "D:\\pyCase\\face_detection\\face_detection\\first_stage.py:32: UserWarning: volatile was removed and now has no effect. Use `with torch.no_grad():` instead.\n  img = Variable(torch.FloatTensor(_preprocess(img)), volatile=True)\n"
     ]
    },
    {
     "name": "stderr",
     "output_type": "stream",
     "text": [
      "D:\\pyCase\\face_detection\\face_detection\\get_nets.py:53: UserWarning: Implicit dimension choice for softmax has been deprecated. Change the call to include dim=X as an argument.\n  a = F.softmax(self.conv4_1(x))\n"
     ]
    },
    {
     "name": "stderr",
     "output_type": "stream",
     "text": [
      "D:\\pyCase\\face_detection\\face_detection\\detector.py:74: UserWarning: volatile was removed and now has no effect. Use `with torch.no_grad():` instead.\n  img_boxes = Variable(torch.FloatTensor(img_boxes), volatile=True)\nD:\\pyCase\\face_detection\\face_detection\\get_nets.py:91: UserWarning: Implicit dimension choice for softmax has been deprecated. Change the call to include dim=X as an argument.\n  a = F.softmax(self.conv5_1(x))\n"
     ]
    },
    {
     "name": "stderr",
     "output_type": "stream",
     "text": [
      "D:\\pyCase\\face_detection\\face_detection\\detector.py:99: UserWarning: volatile was removed and now has no effect. Use `with torch.no_grad():` instead.\n  img_boxes = Variable(torch.FloatTensor(img_boxes), volatile=True)\nD:\\pyCase\\face_detection\\face_detection\\get_nets.py:133: UserWarning: Implicit dimension choice for softmax has been deprecated. Change the call to include dim=X as an argument.\n  a = F.softmax(self.conv6_1(x))\n"
     ]
    }
   ],
   "source": [
    "img = Image.open('images/office2.jpg')\n",
    "bounding_boxes, landmark = detect_face(img)\n"
   ]
  },
  {
   "cell_type": "code",
   "execution_count": 20,
   "metadata": {},
   "outputs": [],
   "source": [
    "show_boxes(img, bounding_boxes, landmark).show()"
   ]
  },
  {
   "cell_type": "code",
   "execution_count": 11,
   "metadata": {},
   "outputs": [
    {
     "name": "stderr",
     "output_type": "stream",
     "text": [
      "D:\\pyCase\\face_detection\\face_detection\\first_stage.py:32: UserWarning: volatile was removed and now has no effect. Use `with torch.no_grad():` instead.\n  img = Variable(torch.FloatTensor(_preprocess(img)), volatile=True)\nD:\\pyCase\\face_detection\\face_detection\\get_nets.py:53: UserWarning: Implicit dimension choice for softmax has been deprecated. Change the call to include dim=X as an argument.\n  a = F.softmax(self.conv4_1(x))\n"
     ]
    },
    {
     "name": "stderr",
     "output_type": "stream",
     "text": [
      "D:\\pyCase\\face_detection\\face_detection\\detector.py:74: UserWarning: volatile was removed and now has no effect. Use `with torch.no_grad():` instead.\n  img_boxes = Variable(torch.FloatTensor(img_boxes), volatile=True)\nD:\\pyCase\\face_detection\\face_detection\\get_nets.py:91: UserWarning: Implicit dimension choice for softmax has been deprecated. Change the call to include dim=X as an argument.\n  a = F.softmax(self.conv5_1(x))\nD:\\pyCase\\face_detection\\face_detection\\detector.py:99: UserWarning: volatile was removed and now has no effect. Use `with torch.no_grad():` instead.\n  img_boxes = Variable(torch.FloatTensor(img_boxes), volatile=True)\nD:\\pyCase\\face_detection\\face_detection\\get_nets.py:133: UserWarning: Implicit dimension choice for softmax has been deprecated. Change the call to include dim=X as an argument.\n  a = F.softmax(self.conv6_1(x))\n"
     ]
    }
   ],
   "source": [
    "img = Image.open('images/office3.jpg')\n",
    "bounding_boxes, landmark = detect_face(img)\n"
   ]
  },
  {
   "cell_type": "code",
   "execution_count": 12,
   "metadata": {},
   "outputs": [],
   "source": [
    "show_boxes(img, bounding_boxes, landmark ).show()"
   ]
  },
  {
   "cell_type": "code",
   "execution_count": 16,
   "metadata": {},
   "outputs": [
    {
     "name": "stderr",
     "output_type": "stream",
     "text": [
      "D:\\pyCase\\face_detection\\face_detection\\first_stage.py:32: UserWarning: volatile was removed and now has no effect. Use `with torch.no_grad():` instead.\n  img = Variable(torch.FloatTensor(_preprocess(img)), volatile=True)\nD:\\pyCase\\face_detection\\face_detection\\get_nets.py:53: UserWarning: Implicit dimension choice for softmax has been deprecated. Change the call to include dim=X as an argument.\n  a = F.softmax(self.conv4_1(x))\n"
     ]
    },
    {
     "name": "stderr",
     "output_type": "stream",
     "text": [
      "D:\\pyCase\\face_detection\\face_detection\\detector.py:74: UserWarning: volatile was removed and now has no effect. Use `with torch.no_grad():` instead.\n  img_boxes = Variable(torch.FloatTensor(img_boxes), volatile=True)\nD:\\pyCase\\face_detection\\face_detection\\get_nets.py:91: UserWarning: Implicit dimension choice for softmax has been deprecated. Change the call to include dim=X as an argument.\n  a = F.softmax(self.conv5_1(x))\nD:\\pyCase\\face_detection\\face_detection\\detector.py:99: UserWarning: volatile was removed and now has no effect. Use `with torch.no_grad():` instead.\n  img_boxes = Variable(torch.FloatTensor(img_boxes), volatile=True)\n"
     ]
    },
    {
     "name": "stderr",
     "output_type": "stream",
     "text": [
      "D:\\pyCase\\face_detection\\face_detection\\get_nets.py:133: UserWarning: Implicit dimension choice for softmax has been deprecated. Change the call to include dim=X as an argument.\n  a = F.softmax(self.conv6_1(x))\n"
     ]
    }
   ],
   "source": [
    "img = Image.open('images/office4.jpg')\n",
    "bounding_boxes, landmark = detect_face(img, thresholds=[0.6, 0.7, 0.85])\n"
   ]
  },
  {
   "cell_type": "code",
   "execution_count": 18,
   "metadata": {},
   "outputs": [],
   "source": [
    "show_boxes(img, bounding_boxes, landmark).show()"
   ]
  },
  {
   "cell_type": "code",
   "execution_count": null,
   "metadata": {},
   "outputs": [],
   "source": [
    ""
   ]
  }
 ],
 "metadata": {
  "kernelspec": {
   "display_name": "Python 2",
   "language": "python",
   "name": "python2"
  },
  "language_info": {
   "codemirror_mode": {
    "name": "ipython",
    "version": 2
   },
   "file_extension": ".py",
   "mimetype": "text/x-python",
   "name": "python",
   "nbconvert_exporter": "python",
   "pygments_lexer": "ipython2",
   "version": "2.7.6"
  }
 },
 "nbformat": 4,
 "nbformat_minor": 0
}
